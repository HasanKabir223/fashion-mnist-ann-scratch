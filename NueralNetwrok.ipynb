{
 "cells": [
  {
   "cell_type": "code",
   "execution_count": null,
   "id": "da8d8cc3",
   "metadata": {},
   "outputs": [],
   "source": [
    "# pip install pandas numpy matplotlib\n",
    "import pandas as pd\n",
    "import numpy as np\n",
    "import matplotlib.pyplot as plt"
   ]
  },
  {
   "cell_type": "code",
   "execution_count": null,
   "id": "4e18e028",
   "metadata": {},
   "outputs": [],
   "source": [
    "df = pd.read_csv(\"fashion-mnist_train.csv\") # Unloading data\n",
    "df = df.iloc[:25000] # Passsing down the first 25K Images\n",
    "\n",
    "Y = np.array(df['label']).astype(int)  # Output labels\n",
    "X = np.array(df.drop('label',axis = 1)) / 255 # input "
   ]
  },
  {
   "cell_type": "code",
   "execution_count": null,
   "id": "bd37c3c4",
   "metadata": {},
   "outputs": [
    {
     "data": {
      "image/png": "[encoded data removed]",
      "text/plain": [
       "<Figure size 640x480 with 1 Axes>"
      ]
     },
     "metadata": {},
     "output_type": "display_data"
    }
   ],
   "source": [
    "fashion = {\n",
    "    0 : \"T-shirt\",\n",
    "    1 : \"Trousers\",\n",
    "    2 : \"Pullover\",\n",
    "    3 : \"Dress\",\n",
    "    4 : \"Coat\",\n",
    "    5 : \"Sandal\",\n",
    "    6 : \"Shirt\",\n",
    "    7 : \"Sneaker\",\n",
    "    8 : \"Bag\",\n",
    "    9 : \"Ankle boot\"\n",
    "} # turning the labels to the fashion item\n",
    "\n",
    "def show_image(index): # showcasing the images\n",
    "    image = np.array(X[index]).reshape((28,28)) # Selecting the Image of the particular index\n",
    "    plt.title(fashion[Y[index]]) # Giving the name to the corresponding image\n",
    "    plt.imshow(image,cmap='grey') # Showing the Image\n",
    "    plt.axis('off') # Turnin off the axis\n",
    "    plt.show()\n",
    "\n",
    "show_image(1011)"
   ]
  },
  {
   "cell_type": "code",
   "execution_count": null,
   "id": "adb95550",
   "metadata": {},
   "outputs": [],
   "source": [
    "def Relu(Z): \n",
    "    # ReLU adds non-linearity so the network can learn complex patterns\n",
    "    return np.maximum(Z,0) # Z if Z > 0 else 0\n",
    "\n",
    "def softmax(Z):\n",
    "    #  Softmax converts logits to class probabilities\n",
    "    exp_z = np.exp(Z - np.max(Z, axis=0, keepdims=True)) # it helps to prevent exploit of the exp\n",
    "    return exp_z / np.sum(exp_z, axis=0, keepdims=True)\n",
    "\n",
    "def one_hot_encode(y, num_classes=10):\n",
    "    return np.eye(num_classes)[y].T # it turns the Y labels to the encoded vector \n",
    "# for example Y label is 3, one_hot_code will be [0 0 0 1 0 0 0 0 0 0] "
   ]
  },
  {
   "cell_type": "code",
   "execution_count": 25,
   "id": "15974b3a",
   "metadata": {},
   "outputs": [],
   "source": [
    "# Iniziatlising the weights and biases\n",
    "w1 = np.random.randn(64, 784) * np.sqrt(2/784)  # the Dim of the input layer is 784 as the image is 28 by 28 and there are 64 neurons in the first hidden layer\n",
    "b1 = np.zeros((64, 1)) # Each nueron has ts own biases \n",
    "w2 = np.random.randn(32, 64) * np.sqrt(2/64) # Second hidden layer has 32 layer and it nueron has it own weigths\n",
    "b2 = np.zeros((32, 1)) # Each nueron has ts own biases \n",
    "w3 = np.random.randn(10, 32) * np.sqrt(2/32) # Output layer with 10 neurons as we have 10 items to predict\n",
    "b3 = np.zeros((10, 1)) \n",
    "\n",
    "data = np.load(\"fashion_ann_weights.npz\")\n",
    "w1, b1 = data[\"w1\"], data[\"b1\"]\n",
    "w2, b2 = data[\"w2\"], data[\"b2\"]\n",
    "w3, b3 = data[\"w3\"], data[\"b3\"]\n"
   ]
  },
  {
   "cell_type": "code",
   "execution_count": 24,
   "id": "86b88ece",
   "metadata": {},
   "outputs": [
    {
     "name": "stdout",
     "output_type": "stream",
     "text": [
      "itearations: 0 accuracy: 89.81\n",
      "itearations: 10 accuracy: 89.76\n",
      "itearations: 20 accuracy: 89.78\n",
      "itearations: 30 accuracy: 89.83\n",
      "itearations: 40 accuracy: 89.88\n",
      "itearations: 50 accuracy: 89.92\n",
      "itearations: 60 accuracy: 89.95\n",
      "itearations: 70 accuracy: 89.94\n",
      "itearations: 80 accuracy: 89.94\n",
      "itearations: 90 accuracy: 89.99\n",
      "itearations: 100 accuracy: 89.99\n",
      "itearations: 110 accuracy: 90.03\n",
      "itearations: 120 accuracy: 89.93\n",
      "itearations: 130 accuracy: 89.97\n",
      "itearations: 140 accuracy: 89.99\n",
      "itearations: 150 accuracy: 90.07\n",
      "itearations: 160 accuracy: 90.02\n",
      "itearations: 170 accuracy: 90.01\n",
      "itearations: 180 accuracy: 89.97\n",
      "itearations: 190 accuracy: 90.03\n",
      "itearations: 200 accuracy: 89.97\n",
      "itearations: 210 accuracy: 90.00\n",
      "itearations: 220 accuracy: 89.99\n",
      "itearations: 230 accuracy: 89.99\n",
      "itearations: 240 accuracy: 90.03\n"
     ]
    }
   ],
   "source": [
    "learning_rate = 0.032 # Learning rate is the rate the Model will change its weights and biases. It should not be very high or very low \n",
    "acc = []\n",
    "iterations = []\n",
    "iteration = 250 # Number of Time our models change its weights and learn from the mistakes\n",
    "m = X.shape[0]\n",
    "for i in range(iteration):\n",
    "    # forward propogation\n",
    "    Z1 = w1 @  X.T + b1 # Passing the input to the first hidden layer\n",
    "    A1 = Relu(Z1) # Applying the activation function to the first hdden layer\n",
    "\n",
    "    Z2 = w2 @ A1 + b2 # The output from the first hidden layer is bieng passed to the seocnd hidden layer\n",
    "    A2 = Relu(Z2) # applying the activation function the second hidden layer\n",
    "\n",
    "    Z3 = w3 @ A2 + b3 #  The output from the second hidden layer is being passed to the output layer\n",
    "    A3 = softmax(Z3) # It will calculate the probability that the input image is what?\n",
    "\n",
    "    Y_one_hot = one_hot_encode(Y) # One hot coding the Y \n",
    "\n",
    "    # This is manually derived on Paper\n",
    "    dZ3 = A3 - Y_one_hot\n",
    "    dw3 = dZ3 @ A2.T / 15000\n",
    "    db3 = np.sum(dZ3,keepdims=True,axis = 1) / m\n",
    "\n",
    "    dA2 = w3.T @ dZ3\n",
    "    dZ2 = dA2 * (Z2 > 0)\n",
    "    dw2 = dZ2 @ A1.T / 25000\n",
    "    db2 = np.sum(dZ2,keepdims=True,axis = 1) / m\n",
    "\n",
    "    dA1 = w2.T @ dZ2\n",
    "    dZ1 = dA1 * (Z1 > 0)\n",
    "    dw1 = dZ1 @ X / 15000\n",
    "    db1 = np.sum(dZ1,keepdims=True,axis = 1) / m\n",
    "\n",
    "    # Updating the weigths and Biases\n",
    "    w1 -= learning_rate * dw1\n",
    "    w2 -= learning_rate * dw2\n",
    "    w3 -= learning_rate * dw3\n",
    "    b1 -= learning_rate * db1\n",
    "    b2 -= learning_rate * db2\n",
    "    b3 -= learning_rate * db3 \n",
    "\n",
    "    prediction = np.argmax(A3,axis = 0) # It will give the index of the highest probability\n",
    "    accuracy = np.mean(prediction == Y) * 100 \n",
    "\n",
    "    if i % 10 == 0:\n",
    "        print(f\"itearations: {i} accuracy: {accuracy:.2f}\")\n",
    "        acc.append(accuracy)\n",
    "        iterations.append(i)\n",
    "       "
   ]
  },
  {
   "cell_type": "code",
   "execution_count": 26,
   "id": "f51206cc",
   "metadata": {},
   "outputs": [
    {
     "data": {
      "image/png": "[encoded data removed]",
      "text/plain": [
       "<Figure size 640x480 with 1 Axes>"
      ]
     },
     "metadata": {},
     "output_type": "display_data"
    },
    {
     "data": {
      "text/plain": [
       "'Trousers'"
      ]
     },
     "execution_count": 26,
     "metadata": {},
     "output_type": "execute_result"
    }
   ],
   "source": [
    "def predict(index):\n",
    "    x = X[index].reshape(1,-1) # Input is One image at a time\n",
    "    # Forward propogation\n",
    "    Z1 = w1 @  x.T + b1\n",
    "    A1 = Relu(Z1) \n",
    "\n",
    "    Z2 = w2 @ A1 + b2\n",
    "    A2 = Relu(Z2) \n",
    "\n",
    "    Z3 = w3 @ A2 + b3\n",
    "    A3 = softmax(Z3) \n",
    "\n",
    "    prediction = np.argmax(A3, 0)\n",
    "    image = np.array(X[index]).reshape((28,28))\n",
    "    plt.title(f\"Prediction: {fashion[prediction.item()]}\")\n",
    "    plt.imshow(image,)\n",
    "    plt.axis('off')\n",
    "    plt.show()\n",
    "    return fashion[Y[index]] # Original Label\n",
    "    \n",
    "predict(69)"
   ]
  },
  {
   "cell_type": "code",
   "execution_count": 18,
   "id": "7218caff",
   "metadata": {},
   "outputs": [],
   "source": [
    "np.savez(\"fashion_ann_weights.npz\", w1=w1, b1=b1, w2=w2, b2=b2, w3=w3, b3=b3)\n"
   ]
  }
 ],
 "metadata": {
  "kernelspec": {
   "display_name": "Python 3",
   "language": "python",
   "name": "python3"
  },
  "language_info": {
   "codemirror_mode": {
    "name": "ipython",
    "version": 3
   },
   "file_extension": ".py",
   "mimetype": "text/x-python",
   "name": "python",
   "nbconvert_exporter": "python",
   "pygments_lexer": "ipython3",
   "version": "3.10.0"
  }
 },
 "nbformat": 4,
 "nbformat_minor": 5
}
